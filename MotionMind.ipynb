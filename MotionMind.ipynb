{
 "cells": [
  {
   "cell_type": "code",
   "execution_count": 14,
   "id": "cf4ac465",
   "metadata": {},
   "outputs": [],
   "source": [
    "# Import required libraries\n",
    "import os\n",
    "import cv2\n",
    "from cvzone.HandTrackingModule import HandDetector\n",
    "import boto3  # Import the boto3 library for AWS EC2 interaction"
   ]
  },
  {
   "cell_type": "code",
   "execution_count": 19,
   "id": "40a637fe",
   "metadata": {},
   "outputs": [],
   "source": [
    "# Initialize video capture from the default camera (webcam)\n",
    "cap = cv2.VideoCapture( 0 )"
   ]
  },
  {
   "cell_type": "code",
   "execution_count": 28,
   "id": "c76f8698",
   "metadata": {},
   "outputs": [],
   "source": [
    "# Capture a photo from the webcam\n",
    "status , photo = cap.read()"
   ]
  },
  {
   "cell_type": "code",
   "execution_count": 21,
   "id": "f16926c1",
   "metadata": {},
   "outputs": [
    {
     "data": {
      "text/plain": [
       "True"
      ]
     },
     "execution_count": 21,
     "metadata": {},
     "output_type": "execute_result"
    }
   ],
   "source": [
    "status"
   ]
  },
  {
   "cell_type": "code",
   "execution_count": 22,
   "id": "0140da87",
   "metadata": {},
   "outputs": [
    {
     "data": {
      "text/plain": [
       "True"
      ]
     },
     "execution_count": 22,
     "metadata": {},
     "output_type": "execute_result"
    }
   ],
   "source": [
    "# Display the captured photo using OpenCV\n",
    "cv2.imwrite(\"anush.jpg\" , photo )"
   ]
  },
  {
   "cell_type": "code",
   "execution_count": 43,
   "id": "5baeb496",
   "metadata": {},
   "outputs": [],
   "source": [
    "# show the pic, from python code\n",
    "cv2.imshow(\"my photo\" , photo)\n",
    "cv2.waitKey()\n",
    "cv2.destroyAllWindows()"
   ]
  },
  {
   "cell_type": "code",
   "execution_count": 83,
   "id": "bd7de848",
   "metadata": {},
   "outputs": [],
   "source": [
    "# click photo\n",
    "status , photo = cap.read()"
   ]
  },
  {
   "cell_type": "code",
   "execution_count": 45,
   "id": "97fc77cc",
   "metadata": {},
   "outputs": [],
   "source": [
    "from cvzone.HandTrackingModule import HandDetector"
   ]
  },
  {
   "cell_type": "code",
   "execution_count": 46,
   "id": "ddeb75ad",
   "metadata": {},
   "outputs": [],
   "source": [
    "detector = HandDetector()"
   ]
  },
  {
   "cell_type": "code",
   "execution_count": 84,
   "id": "246cb60a",
   "metadata": {},
   "outputs": [],
   "source": [
    "handphoto = detector.findHands(photo , draw=False)"
   ]
  },
  {
   "cell_type": "code",
   "execution_count": 85,
   "id": "5c024c0c",
   "metadata": {},
   "outputs": [],
   "source": [
    "lmlist = handphoto[0]"
   ]
  },
  {
   "cell_type": "code",
   "execution_count": 86,
   "id": "117c45f2",
   "metadata": {},
   "outputs": [],
   "source": [
    "fingerstatus = detector.fingersUp(lmlist)"
   ]
  },
  {
   "cell_type": "code",
   "execution_count": 87,
   "id": "15f6a51d",
   "metadata": {},
   "outputs": [
    {
     "data": {
      "text/plain": [
       "[0, 1, 0, 0, 0]"
      ]
     },
     "execution_count": 87,
     "metadata": {},
     "output_type": "execute_result"
    }
   ],
   "source": [
    "fingerstatus"
   ]
  },
  {
   "cell_type": "code",
   "execution_count": 81,
   "id": "4faac2d6",
   "metadata": {},
   "outputs": [],
   "source": [
    "import os"
   ]
  },
  {
   "cell_type": "code",
   "execution_count": 78,
   "id": "741e8c53",
   "metadata": {},
   "outputs": [],
   "source": [
    "cv2.imshow(\"my photo\" , photo)\n",
    "cv2.waitKey()\n",
    "cv2.destroyAllWindows()"
   ]
  },
  {
   "cell_type": "code",
   "execution_count": null,
   "id": "15dfdf30",
   "metadata": {},
   "outputs": [],
   "source": [
    "handphoto = detector.findHands(photo, draw = False)\n",
    "lmlist = HandPhoto[0]\n",
    "fingerstatus = detector.fingersup(lmlist)"
   ]
  },
  {
   "cell_type": "code",
   "execution_count": null,
   "id": "15a7f614",
   "metadata": {},
   "outputs": [],
   "source": [
    "if fingerstatus == [1,1,1,1,1]:\n",
    "    print(\"all up\")\n",
    "    os.system(\"chrome\")\n",
    "\n",
    "elif fingerstatus == [ 0 ,1 ,0 , 0, 0]:\n",
    "    print(\"index finget up\")\n",
    "    os.system(\"chrome https://www.google.com/search?q=anush+sharma\")\n",
    "    \n",
    "elif fingerstatus == [ 0 , 1, 1, 0 , 0 ]:\n",
    "    print(\"index and middle finger up\")\n",
    "    os.system(\"notepad\") \n",
    "else:\n",
    "    print(\"idk\")"
   ]
  },
  {
   "cell_type": "code",
   "execution_count": null,
   "id": "5c6588e7",
   "metadata": {},
   "outputs": [],
   "source": [
    "import cv2\n",
    "cap=cv2.VideoCapture(0)\n",
    "\n",
    "# Continuously capture video frames and detect hand gestures\n",
    "while True:\n",
    "    status,photo=cap.read()\n",
    "    cv2.imshow(\"myphoto\",photo)\n",
    "    #100 here is milisecond and Break the loop if Enter key is pressed\n",
    "    if cv2.waitKey(100)==13:\n",
    "        break\n",
    "        \n",
    "cv2.destroyAllWindows()"
   ]
  },
  {
   "cell_type": "code",
   "execution_count": null,
   "id": "526e38ea",
   "metadata": {},
   "outputs": [],
   "source": [
    "import boto3\n",
    "# Create an EC2 resource with specified AWS credentials and region.\n",
    "myec2 = boto3.resource(\"ec2\",\n",
    "    region_name=\"ap-south-1\",\n",
    "    aws_access_key_id=\"#Enter Your Access key ID here\",\n",
    "    aws_secret_access_key=\"#Enter Your Secret Access key ID here\")\n",
    "\n",
    "# Create an EC2 instance using the specified parameters.\n",
    "response = myec2.create_instances(\n",
    "    ImageId=\"ami-0da59f1af71ea4ad2\",\n",
    "    InstanceType=\"t2.micro\",\n",
    "    # Number of instances to launch (maximum, minimum)\n",
    "    MaxCount=1,\n",
    "    MinCount=1)"
   ]
  },
  {
   "cell_type": "code",
   "execution_count": null,
   "id": "bb250e2e",
   "metadata": {},
   "outputs": [],
   "source": [
    "import  cv2\n",
    "cap = cv2.VideoCapture( 0 )\n",
    "\n",
    "from cvzone.HandTrackingModule import HandDetector\n",
    "detector = HandDetector()\n",
    "\n",
    "while True:\n",
    "    status , photo = cap.read()\n",
    "    cv2.imshow(\"my photo\" , photo)\n",
    "    if cv2.waitKey(100) == 13:\n",
    "        break\n",
    "    \n",
    "    handphoto = detector.findHands(photo , draw=False)\n",
    "    \n",
    "    if handphoto:\n",
    "        lmlist = handphoto[0]\n",
    "        fingerstatus = detector.fingersUp(lmlist)\n",
    "\n",
    "        if fingerstatus == [1,1,1,1,1]:\n",
    "            print(\"all up\")\n",
    "            launchOS()\n",
    "            launchOS()\n",
    "            launchOS()\n",
    "            launchOS()\n",
    "            launchOS()\n",
    "    \n",
    "        elif fingerstatus == [ 0 ,1 ,0 , 0, 0]:\n",
    "            print(\"index finger up\")\n",
    "            launchOS()\n",
    "    \n",
    "        elif fingerstatus == [ 0 , 1, 1, 0 , 0 ]:\n",
    "            print(\"index and middle finger up\")\n",
    "\n",
    "            launchOS()\n",
    "            launchOS()\n",
    "    \n",
    "        else:\n",
    "            print(\"idk\")\n",
    "\n",
    "cv2.destroyAllWindows()\n",
    "cap.release()"
   ]
  }
 ],
 "metadata": {
  "kernelspec": {
   "display_name": "Python 3 (ipykernel)",
   "language": "python",
   "name": "python3"
  },
  "language_info": {
   "codemirror_mode": {
    "name": "ipython",
    "version": 3
   },
   "file_extension": ".py",
   "mimetype": "text/x-python",
   "name": "python",
   "nbconvert_exporter": "python",
   "pygments_lexer": "ipython3",
   "version": "3.11.0"
  }
 },
 "nbformat": 4,
 "nbformat_minor": 5
}
